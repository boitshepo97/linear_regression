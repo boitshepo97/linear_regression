{
 "cells": [
  {
   "cell_type": "markdown",
   "metadata": {},
   "source": [
    "# Simple Linear Regression\n"
   ]
  },
  {
   "cell_type": "code",
   "execution_count": 59,
   "metadata": {},
   "outputs": [
    {
     "name": "stdout",
     "output_type": "stream",
     "text": [
      "Collecting statsmodel\n",
      "\u001b[31mException:\n",
      "Traceback (most recent call last):\n",
      "  File \"/usr/lib/python3/dist-packages/pip/basecommand.py\", line 215, in main\n",
      "    status = self.run(options, args)\n",
      "  File \"/usr/lib/python3/dist-packages/pip/commands/install.py\", line 353, in run\n",
      "    wb.build(autobuilding=True)\n",
      "  File \"/usr/lib/python3/dist-packages/pip/wheel.py\", line 749, in build\n",
      "    self.requirement_set.prepare_files(self.finder)\n",
      "  File \"/usr/lib/python3/dist-packages/pip/req/req_set.py\", line 380, in prepare_files\n",
      "    ignore_dependencies=self.ignore_dependencies))\n",
      "  File \"/usr/lib/python3/dist-packages/pip/req/req_set.py\", line 554, in _prepare_file\n",
      "    require_hashes\n",
      "  File \"/usr/lib/python3/dist-packages/pip/req/req_install.py\", line 278, in populate_link\n",
      "    self.link = finder.find_requirement(self, upgrade)\n",
      "  File \"/usr/lib/python3/dist-packages/pip/index.py\", line 465, in find_requirement\n",
      "    all_candidates = self.find_all_candidates(req.name)\n",
      "  File \"/usr/lib/python3/dist-packages/pip/index.py\", line 423, in find_all_candidates\n",
      "    for page in self._get_pages(url_locations, project_name):\n",
      "  File \"/usr/lib/python3/dist-packages/pip/index.py\", line 568, in _get_pages\n",
      "    page = self._get_page(location)\n",
      "  File \"/usr/lib/python3/dist-packages/pip/index.py\", line 683, in _get_page\n",
      "    return HTMLPage.get_page(link, session=self.session)\n",
      "  File \"/usr/lib/python3/dist-packages/pip/index.py\", line 795, in get_page\n",
      "    resp.raise_for_status()\n",
      "  File \"/usr/share/python-wheels/requests-2.18.4-py2.py3-none-any.whl/requests/models.py\", line 935, in raise_for_status\n",
      "    raise HTTPError(http_error_msg, response=self)\n",
      "requests.exceptions.HTTPError: 404 Client Error: Not Found for url: https://pypi.org/simple/statsmodel/\u001b[0m\n"
     ]
    }
   ],
   "source": [
    "!pip3 install statsmodel"
   ]
  },
  {
   "cell_type": "markdown",
   "metadata": {},
   "source": [
    "#### Loading modules."
   ]
  },
  {
   "cell_type": "code",
   "execution_count": 57,
   "metadata": {
    "scrolled": true
   },
   "outputs": [
    {
     "ename": "ImportError",
     "evalue": "No module named abc",
     "output_type": "error",
     "traceback": [
      "\u001b[0;31m---------------------------------------------------------------------------\u001b[0m",
      "\u001b[0;31mImportError\u001b[0m                               Traceback (most recent call last)",
      "\u001b[0;32m<ipython-input-57-7001b544110e>\u001b[0m in \u001b[0;36m<module>\u001b[0;34m()\u001b[0m\n\u001b[1;32m      2\u001b[0m \u001b[0;32mimport\u001b[0m \u001b[0mpandas\u001b[0m \u001b[0;32mas\u001b[0m \u001b[0mpd\u001b[0m\u001b[0;34m\u001b[0m\u001b[0m\n\u001b[1;32m      3\u001b[0m \u001b[0;32mimport\u001b[0m \u001b[0mmatplotlib\u001b[0m\u001b[0;34m.\u001b[0m\u001b[0mpyplot\u001b[0m \u001b[0;32mas\u001b[0m \u001b[0mplt\u001b[0m\u001b[0;34m\u001b[0m\u001b[0m\n\u001b[0;32m----> 4\u001b[0;31m \u001b[0;32mimport\u001b[0m \u001b[0mstatsmodels\u001b[0m\u001b[0;34m.\u001b[0m\u001b[0mapi\u001b[0m \u001b[0;32mas\u001b[0m \u001b[0msm\u001b[0m\u001b[0;34m\u001b[0m\u001b[0m\n\u001b[0m\u001b[1;32m      5\u001b[0m \u001b[0;32mfrom\u001b[0m \u001b[0msklearn\u001b[0m \u001b[0;32mimport\u001b[0m \u001b[0mdatasets\u001b[0m\u001b[0;34m,\u001b[0m \u001b[0mlinear_model\u001b[0m\u001b[0;34m\u001b[0m\u001b[0m\n\u001b[1;32m      6\u001b[0m \u001b[0;32mfrom\u001b[0m \u001b[0msklearn\u001b[0m\u001b[0;34m.\u001b[0m\u001b[0mlinear_model\u001b[0m \u001b[0;32mimport\u001b[0m \u001b[0mLinearRegression\u001b[0m\u001b[0;34m\u001b[0m\u001b[0m\n",
      "\u001b[0;32m/home/recruits/.local/lib/python2.7/site-packages/statsmodels/api.py\u001b[0m in \u001b[0;36m<module>\u001b[0;34m()\u001b[0m\n\u001b[1;32m      3\u001b[0m \u001b[0;32mimport\u001b[0m \u001b[0mos\u001b[0m\u001b[0;34m\u001b[0m\u001b[0m\n\u001b[1;32m      4\u001b[0m \u001b[0;34m\u001b[0m\u001b[0m\n\u001b[0;32m----> 5\u001b[0;31m \u001b[0;32mfrom\u001b[0m \u001b[0;34m.\u001b[0m \u001b[0;32mimport\u001b[0m \u001b[0miolib\u001b[0m\u001b[0;34m\u001b[0m\u001b[0m\n\u001b[0m\u001b[1;32m      6\u001b[0m \u001b[0;32mfrom\u001b[0m \u001b[0;34m.\u001b[0m \u001b[0;32mimport\u001b[0m \u001b[0mdatasets\u001b[0m\u001b[0;34m\u001b[0m\u001b[0m\n\u001b[1;32m      7\u001b[0m \u001b[0;32mfrom\u001b[0m \u001b[0;34m.\u001b[0m \u001b[0;32mimport\u001b[0m \u001b[0mtools\u001b[0m\u001b[0;34m\u001b[0m\u001b[0m\n",
      "\u001b[0;32m/home/recruits/.local/lib/python2.7/site-packages/statsmodels/iolib/__init__.py\u001b[0m in \u001b[0;36m<module>\u001b[0;34m()\u001b[0m\n\u001b[0;32m----> 1\u001b[0;31m \u001b[0;32mfrom\u001b[0m \u001b[0;34m.\u001b[0m\u001b[0mforeign\u001b[0m \u001b[0;32mimport\u001b[0m \u001b[0mStataReader\u001b[0m\u001b[0;34m,\u001b[0m \u001b[0mgenfromdta\u001b[0m\u001b[0;34m,\u001b[0m \u001b[0msavetxt\u001b[0m\u001b[0;34m\u001b[0m\u001b[0m\n\u001b[0m\u001b[1;32m      2\u001b[0m \u001b[0;32mfrom\u001b[0m \u001b[0;34m.\u001b[0m\u001b[0mtable\u001b[0m \u001b[0;32mimport\u001b[0m \u001b[0mSimpleTable\u001b[0m\u001b[0;34m,\u001b[0m \u001b[0mcsv2st\u001b[0m\u001b[0;34m\u001b[0m\u001b[0m\n\u001b[1;32m      3\u001b[0m \u001b[0;32mfrom\u001b[0m \u001b[0;34m.\u001b[0m\u001b[0msmpickle\u001b[0m \u001b[0;32mimport\u001b[0m \u001b[0msave_pickle\u001b[0m\u001b[0;34m,\u001b[0m \u001b[0mload_pickle\u001b[0m\u001b[0;34m\u001b[0m\u001b[0m\n\u001b[1;32m      4\u001b[0m \u001b[0;34m\u001b[0m\u001b[0m\n\u001b[1;32m      5\u001b[0m \u001b[0;32mfrom\u001b[0m \u001b[0mstatsmodels\u001b[0m\u001b[0;34m.\u001b[0m\u001b[0mtools\u001b[0m\u001b[0;34m.\u001b[0m\u001b[0m_testing\u001b[0m \u001b[0;32mimport\u001b[0m \u001b[0mPytestTester\u001b[0m\u001b[0;34m\u001b[0m\u001b[0m\n",
      "\u001b[0;32m/home/recruits/.local/lib/python2.7/site-packages/statsmodels/iolib/foreign.py\u001b[0m in \u001b[0;36m<module>\u001b[0;34m()\u001b[0m\n\u001b[1;32m     12\u001b[0m \u001b[0;32mimport\u001b[0m \u001b[0mwarnings\u001b[0m\u001b[0;34m\u001b[0m\u001b[0m\n\u001b[1;32m     13\u001b[0m \u001b[0;34m\u001b[0m\u001b[0m\n\u001b[0;32m---> 14\u001b[0;31m from statsmodels.compat.python import (lzip, lmap, lrange,\n\u001b[0m\u001b[1;32m     15\u001b[0m                                        lfilter, asbytes, asstr)\n\u001b[1;32m     16\u001b[0m \u001b[0;32mfrom\u001b[0m \u001b[0mstruct\u001b[0m \u001b[0;32mimport\u001b[0m \u001b[0munpack\u001b[0m\u001b[0;34m,\u001b[0m \u001b[0mcalcsize\u001b[0m\u001b[0;34m,\u001b[0m \u001b[0mpack\u001b[0m\u001b[0;34m\u001b[0m\u001b[0m\n",
      "\u001b[0;32m/home/recruits/.local/lib/python2.7/site-packages/statsmodels/compat/__init__.py\u001b[0m in \u001b[0;36m<module>\u001b[0;34m()\u001b[0m\n\u001b[0;32m----> 1\u001b[0;31m \u001b[0;32mfrom\u001b[0m \u001b[0mstatsmodels\u001b[0m\u001b[0;34m.\u001b[0m\u001b[0mtools\u001b[0m\u001b[0;34m.\u001b[0m\u001b[0m_testing\u001b[0m \u001b[0;32mimport\u001b[0m \u001b[0mPytestTester\u001b[0m\u001b[0;34m\u001b[0m\u001b[0m\n\u001b[0m\u001b[1;32m      2\u001b[0m \u001b[0;34m\u001b[0m\u001b[0m\n\u001b[1;32m      3\u001b[0m from .python import (\n\u001b[1;32m      4\u001b[0m     \u001b[0mPY37\u001b[0m\u001b[0;34m,\u001b[0m\u001b[0;34m\u001b[0m\u001b[0m\n\u001b[1;32m      5\u001b[0m     \u001b[0masunicode\u001b[0m\u001b[0;34m,\u001b[0m \u001b[0masbytes\u001b[0m\u001b[0;34m,\u001b[0m \u001b[0masstr\u001b[0m\u001b[0;34m,\u001b[0m\u001b[0;34m\u001b[0m\u001b[0m\n",
      "\u001b[0;32m/home/recruits/.local/lib/python2.7/site-packages/statsmodels/tools/__init__.py\u001b[0m in \u001b[0;36m<module>\u001b[0;34m()\u001b[0m\n\u001b[0;32m----> 1\u001b[0;31m \u001b[0;32mfrom\u001b[0m \u001b[0;34m.\u001b[0m\u001b[0mtools\u001b[0m \u001b[0;32mimport\u001b[0m \u001b[0madd_constant\u001b[0m\u001b[0;34m,\u001b[0m \u001b[0mcategorical\u001b[0m\u001b[0;34m\u001b[0m\u001b[0m\n\u001b[0m\u001b[1;32m      2\u001b[0m \u001b[0;32mfrom\u001b[0m \u001b[0mstatsmodels\u001b[0m\u001b[0;34m.\u001b[0m\u001b[0mtools\u001b[0m\u001b[0;34m.\u001b[0m\u001b[0m_testing\u001b[0m \u001b[0;32mimport\u001b[0m \u001b[0mPytestTester\u001b[0m\u001b[0;34m\u001b[0m\u001b[0m\n\u001b[1;32m      3\u001b[0m \u001b[0;34m\u001b[0m\u001b[0m\n\u001b[1;32m      4\u001b[0m \u001b[0m__all__\u001b[0m \u001b[0;34m=\u001b[0m \u001b[0;34m[\u001b[0m\u001b[0;34m'test'\u001b[0m\u001b[0;34m,\u001b[0m \u001b[0;34m'add_constant'\u001b[0m\u001b[0;34m,\u001b[0m \u001b[0;34m'categorical'\u001b[0m\u001b[0;34m]\u001b[0m\u001b[0;34m\u001b[0m\u001b[0m\n\u001b[1;32m      5\u001b[0m \u001b[0;34m\u001b[0m\u001b[0m\n",
      "\u001b[0;32m/home/recruits/.local/lib/python2.7/site-packages/statsmodels/tools/tools.py\u001b[0m in \u001b[0;36m<module>\u001b[0;34m()\u001b[0m\n\u001b[1;32m      9\u001b[0m \u001b[0;34m\u001b[0m\u001b[0m\n\u001b[1;32m     10\u001b[0m \u001b[0;32mfrom\u001b[0m \u001b[0mstatsmodels\u001b[0m\u001b[0;34m.\u001b[0m\u001b[0mtools\u001b[0m\u001b[0;34m.\u001b[0m\u001b[0mdata\u001b[0m \u001b[0;32mimport\u001b[0m \u001b[0m_is_using_pandas\u001b[0m\u001b[0;34m,\u001b[0m \u001b[0m_is_recarray\u001b[0m\u001b[0;34m\u001b[0m\u001b[0m\n\u001b[0;32m---> 11\u001b[0;31m \u001b[0;32mfrom\u001b[0m \u001b[0mstatsmodels\u001b[0m\u001b[0;34m.\u001b[0m\u001b[0mtools\u001b[0m\u001b[0;34m.\u001b[0m\u001b[0mvalidation\u001b[0m \u001b[0;32mimport\u001b[0m \u001b[0marray_like\u001b[0m\u001b[0;34m\u001b[0m\u001b[0m\n\u001b[0m\u001b[1;32m     12\u001b[0m \u001b[0;34m\u001b[0m\u001b[0m\n\u001b[1;32m     13\u001b[0m \u001b[0;34m\u001b[0m\u001b[0m\n",
      "\u001b[0;32m/home/recruits/.local/lib/python2.7/site-packages/statsmodels/tools/validation/__init__.py\u001b[0m in \u001b[0;36m<module>\u001b[0;34m()\u001b[0m\n\u001b[0;32m----> 1\u001b[0;31m from .validation import (array_like, bool_like,  dict_like,\n\u001b[0m\u001b[1;32m      2\u001b[0m                          float_like, int_like, PandasWrapper, string_like)\n\u001b[1;32m      3\u001b[0m \u001b[0;34m\u001b[0m\u001b[0m\n\u001b[1;32m      4\u001b[0m \u001b[0;34m\u001b[0m\u001b[0m\n\u001b[1;32m      5\u001b[0m __all__ = ['array_like', 'bool_like', 'dict_like', 'float_like', 'int_like',\n",
      "\u001b[0;32m/home/recruits/.local/lib/python2.7/site-packages/statsmodels/tools/validation/validation.py\u001b[0m in \u001b[0;36m<module>\u001b[0;34m()\u001b[0m\n\u001b[0;32m----> 1\u001b[0;31m \u001b[0;32mfrom\u001b[0m \u001b[0mcollections\u001b[0m\u001b[0;34m.\u001b[0m\u001b[0mabc\u001b[0m \u001b[0;32mimport\u001b[0m \u001b[0mMapping\u001b[0m\u001b[0;34m\u001b[0m\u001b[0m\n\u001b[0m\u001b[1;32m      2\u001b[0m \u001b[0;34m\u001b[0m\u001b[0m\n\u001b[1;32m      3\u001b[0m \u001b[0;32mimport\u001b[0m \u001b[0mnumpy\u001b[0m \u001b[0;32mas\u001b[0m \u001b[0mnp\u001b[0m\u001b[0;34m\u001b[0m\u001b[0m\n\u001b[1;32m      4\u001b[0m \u001b[0;32mimport\u001b[0m \u001b[0mpandas\u001b[0m \u001b[0;32mas\u001b[0m \u001b[0mpd\u001b[0m\u001b[0;34m\u001b[0m\u001b[0m\n\u001b[1;32m      5\u001b[0m \u001b[0;34m\u001b[0m\u001b[0m\n",
      "\u001b[0;31mImportError\u001b[0m: No module named abc"
     ]
    }
   ],
   "source": [
    "import numpy as np\n",
    "import pandas as pd\n",
    "import matplotlib.pyplot as plt\n",
    "import statsmodels.api as sm\n",
    "from sklearn import datasets, linear_model\n",
    "from sklearn.linear_model import LinearRegression\n",
    "from sklearn.model_selection import train_test_split\n"
   ]
  },
  {
   "cell_type": "markdown",
   "metadata": {},
   "source": [
    "   "
   ]
  },
  {
   "cell_type": "code",
   "execution_count": 14,
   "metadata": {},
   "outputs": [
    {
     "name": "stdout",
     "output_type": "stream",
     "text": [
      "<class 'pandas.core.frame.DataFrame'>\n",
      "RangeIndex: 514 entries, 0 to 513\n",
      "Data columns (total 11 columns):\n",
      "salary         513 non-null float64\n",
      "exprior        514 non-null int64\n",
      "yearsworked    514 non-null int64\n",
      "yearsrank      514 non-null int64\n",
      "market         514 non-null float64\n",
      "degree         514 non-null int64\n",
      "otherqual      514 non-null int64\n",
      "position       514 non-null int64\n",
      "male           514 non-null int64\n",
      "Field          514 non-null int64\n",
      "yearsabs       514 non-null int64\n",
      "dtypes: float64(2), int64(9)\n",
      "memory usage: 44.2 KB\n"
     ]
    }
   ],
   "source": [
    "#Reading the csv file.\n",
    "salary = pd.read_csv('resources/salary.csv')\n",
    "salary.info()"
   ]
  },
  {
   "cell_type": "markdown",
   "metadata": {},
   "source": [
    "  "
   ]
  },
  {
   "cell_type": "code",
   "execution_count": 18,
   "metadata": {},
   "outputs": [],
   "source": [
    "# Filling my NaN value with the mean of the column\n",
    "salary = salary.apply(lambda x: x.fillna(x.mean()))"
   ]
  },
  {
   "cell_type": "code",
   "execution_count": 19,
   "metadata": {},
   "outputs": [
    {
     "data": {
      "text/html": [
       "<div>\n",
       "<style scoped>\n",
       "    .dataframe tbody tr th:only-of-type {\n",
       "        vertical-align: middle;\n",
       "    }\n",
       "\n",
       "    .dataframe tbody tr th {\n",
       "        vertical-align: top;\n",
       "    }\n",
       "\n",
       "    .dataframe thead th {\n",
       "        text-align: right;\n",
       "    }\n",
       "</style>\n",
       "<table border=\"1\" class=\"dataframe\">\n",
       "  <thead>\n",
       "    <tr style=\"text-align: right;\">\n",
       "      <th></th>\n",
       "      <th>salary</th>\n",
       "      <th>exprior</th>\n",
       "      <th>yearsworked</th>\n",
       "      <th>yearsrank</th>\n",
       "      <th>market</th>\n",
       "      <th>degree</th>\n",
       "      <th>otherqual</th>\n",
       "      <th>position</th>\n",
       "      <th>male</th>\n",
       "      <th>Field</th>\n",
       "      <th>yearsabs</th>\n",
       "    </tr>\n",
       "  </thead>\n",
       "  <tbody>\n",
       "    <tr>\n",
       "      <th>0</th>\n",
       "      <td>53000.0</td>\n",
       "      <td>0</td>\n",
       "      <td>0</td>\n",
       "      <td>0</td>\n",
       "      <td>1.17</td>\n",
       "      <td>1</td>\n",
       "      <td>0</td>\n",
       "      <td>1</td>\n",
       "      <td>1</td>\n",
       "      <td>3</td>\n",
       "      <td>0</td>\n",
       "    </tr>\n",
       "    <tr>\n",
       "      <th>1</th>\n",
       "      <td>58000.0</td>\n",
       "      <td>1</td>\n",
       "      <td>0</td>\n",
       "      <td>0</td>\n",
       "      <td>1.24</td>\n",
       "      <td>1</td>\n",
       "      <td>0</td>\n",
       "      <td>1</td>\n",
       "      <td>1</td>\n",
       "      <td>2</td>\n",
       "      <td>0</td>\n",
       "    </tr>\n",
       "    <tr>\n",
       "      <th>2</th>\n",
       "      <td>45500.0</td>\n",
       "      <td>0</td>\n",
       "      <td>0</td>\n",
       "      <td>0</td>\n",
       "      <td>1.21</td>\n",
       "      <td>1</td>\n",
       "      <td>0</td>\n",
       "      <td>1</td>\n",
       "      <td>1</td>\n",
       "      <td>3</td>\n",
       "      <td>2</td>\n",
       "    </tr>\n",
       "    <tr>\n",
       "      <th>3</th>\n",
       "      <td>35782.0</td>\n",
       "      <td>0</td>\n",
       "      <td>2</td>\n",
       "      <td>1</td>\n",
       "      <td>0.99</td>\n",
       "      <td>1</td>\n",
       "      <td>0</td>\n",
       "      <td>1</td>\n",
       "      <td>1</td>\n",
       "      <td>4</td>\n",
       "      <td>1</td>\n",
       "    </tr>\n",
       "    <tr>\n",
       "      <th>4</th>\n",
       "      <td>34731.0</td>\n",
       "      <td>0</td>\n",
       "      <td>2</td>\n",
       "      <td>2</td>\n",
       "      <td>0.91</td>\n",
       "      <td>1</td>\n",
       "      <td>0</td>\n",
       "      <td>1</td>\n",
       "      <td>1</td>\n",
       "      <td>4</td>\n",
       "      <td>1</td>\n",
       "    </tr>\n",
       "  </tbody>\n",
       "</table>\n",
       "</div>"
      ],
      "text/plain": [
       "    salary  exprior  yearsworked  yearsrank  market  degree  otherqual  \\\n",
       "0  53000.0        0            0          0    1.17       1          0   \n",
       "1  58000.0        1            0          0    1.24       1          0   \n",
       "2  45500.0        0            0          0    1.21       1          0   \n",
       "3  35782.0        0            2          1    0.99       1          0   \n",
       "4  34731.0        0            2          2    0.91       1          0   \n",
       "\n",
       "   position  male  Field  yearsabs  \n",
       "0         1     1      3         0  \n",
       "1         1     1      2         0  \n",
       "2         1     1      3         2  \n",
       "3         1     1      4         1  \n",
       "4         1     1      4         1  "
      ]
     },
     "execution_count": 19,
     "metadata": {},
     "output_type": "execute_result"
    }
   ],
   "source": [
    "salary.head()"
   ]
  },
  {
   "cell_type": "markdown",
   "metadata": {},
   "source": [
    "   "
   ]
  },
  {
   "cell_type": "code",
   "execution_count": 60,
   "metadata": {
    "scrolled": true
   },
   "outputs": [
    {
     "name": "stdout",
     "output_type": "stream",
     "text": [
      "<class 'pandas.core.frame.DataFrame'>\n",
      "RangeIndex: 514 entries, 0 to 513\n",
      "Data columns (total 10 columns):\n",
      "salary       514 non-null float64\n",
      "exprior      514 non-null int64\n",
      "yearsrank    514 non-null int64\n",
      "market       514 non-null float64\n",
      "degree       514 non-null int64\n",
      "otherqual    514 non-null int64\n",
      "position     514 non-null int64\n",
      "male         514 non-null int64\n",
      "Field        514 non-null int64\n",
      "yearsabs     514 non-null int64\n",
      "dtypes: float64(2), int64(8)\n",
      "memory usage: 40.2 KB\n"
     ]
    }
   ],
   "source": [
    "\n",
    "# Creating the target variable for the test and training sets of data\n",
    "X = salary.drop('yearsworked', axis = 1)\n",
    "y = salary['salary']\n",
    "X.info()\n",
    "# Splitting the data into test and training sets by 75/25\n",
    "X_train, X_test, y_train, y_test = train_test_split(X, y, train_size = 0.75, random_state = 42)\n",
    "#print(X_train.shape)\n"
   ]
  },
  {
   "cell_type": "markdown",
   "metadata": {},
   "source": [
    "   \n",
    "  "
   ]
  },
  {
   "cell_type": "code",
   "execution_count": 61,
   "metadata": {},
   "outputs": [
    {
     "name": "stdout",
     "output_type": "stream",
     "text": [
      "('Number of missing values:', 0)\n",
      "('The highest value is: ', salary       91405.00\n",
      "exprior         25.00\n",
      "yearsrank       28.00\n",
      "market           1.33\n",
      "degree           1.00\n",
      "otherqual        1.00\n",
      "position         3.00\n",
      "male             1.00\n",
      "Field            4.00\n",
      "yearsabs       118.00\n",
      "dtype: float64)\n"
     ]
    }
   ],
   "source": [
    "missing_values = X_train.isnull().sum().sum()\n",
    "print('Number of missing values:',missing_values)\n",
    "\n",
    "highest =  X_train.max()\n",
    "print('The highest value is: ', highest)"
   ]
  },
  {
   "cell_type": "markdown",
   "metadata": {},
   "source": [
    "  "
   ]
  },
  {
   "cell_type": "code",
   "execution_count": 71,
   "metadata": {},
   "outputs": [
    {
     "ename": "ValueError",
     "evalue": "Expected 2D array, got scalar array instead:\narray=1.\nReshape your data either using array.reshape(-1, 1) if your data has a single feature or array.reshape(1, -1) if it contains a single sample.",
     "output_type": "error",
     "traceback": [
      "\u001b[0;31m---------------------------------------------------------------------------\u001b[0m",
      "\u001b[0;31mValueError\u001b[0m                                Traceback (most recent call last)",
      "\u001b[0;32m<ipython-input-71-345c3a995a81>\u001b[0m in \u001b[0;36m<module>\u001b[0;34m()\u001b[0m\n\u001b[1;32m      1\u001b[0m \u001b[0mmodel\u001b[0m \u001b[0;34m=\u001b[0m \u001b[0mLinearRegression\u001b[0m\u001b[0;34m(\u001b[0m\u001b[0;34m)\u001b[0m\u001b[0;34m.\u001b[0m\u001b[0mfit\u001b[0m\u001b[0;34m(\u001b[0m\u001b[0mX\u001b[0m\u001b[0;34m,\u001b[0m \u001b[0my\u001b[0m\u001b[0;34m)\u001b[0m\u001b[0;34m\u001b[0m\u001b[0m\n\u001b[0;32m----> 2\u001b[0;31m \u001b[0mmodel\u001b[0m\u001b[0;34m.\u001b[0m\u001b[0mfit\u001b[0m\u001b[0;34m(\u001b[0m\u001b[0;36m1\u001b[0m\u001b[0;34m,\u001b[0m\u001b[0;36m20\u001b[0m\u001b[0;34m)\u001b[0m\u001b[0;34m\u001b[0m\u001b[0m\n\u001b[0m",
      "\u001b[0;32m/usr/local/lib/python2.7/dist-packages/sklearn/linear_model/base.pyc\u001b[0m in \u001b[0;36mfit\u001b[0;34m(self, X, y, sample_weight)\u001b[0m\n\u001b[1;32m    456\u001b[0m         \u001b[0mn_jobs_\u001b[0m \u001b[0;34m=\u001b[0m \u001b[0mself\u001b[0m\u001b[0;34m.\u001b[0m\u001b[0mn_jobs\u001b[0m\u001b[0;34m\u001b[0m\u001b[0m\n\u001b[1;32m    457\u001b[0m         X, y = check_X_y(X, y, accept_sparse=['csr', 'csc', 'coo'],\n\u001b[0;32m--> 458\u001b[0;31m                          y_numeric=True, multi_output=True)\n\u001b[0m\u001b[1;32m    459\u001b[0m \u001b[0;34m\u001b[0m\u001b[0m\n\u001b[1;32m    460\u001b[0m         \u001b[0;32mif\u001b[0m \u001b[0msample_weight\u001b[0m \u001b[0;32mis\u001b[0m \u001b[0;32mnot\u001b[0m \u001b[0mNone\u001b[0m \u001b[0;32mand\u001b[0m \u001b[0mnp\u001b[0m\u001b[0;34m.\u001b[0m\u001b[0matleast_1d\u001b[0m\u001b[0;34m(\u001b[0m\u001b[0msample_weight\u001b[0m\u001b[0;34m)\u001b[0m\u001b[0;34m.\u001b[0m\u001b[0mndim\u001b[0m \u001b[0;34m>\u001b[0m \u001b[0;36m1\u001b[0m\u001b[0;34m:\u001b[0m\u001b[0;34m\u001b[0m\u001b[0m\n",
      "\u001b[0;32m/usr/local/lib/python2.7/dist-packages/sklearn/utils/validation.pyc\u001b[0m in \u001b[0;36mcheck_X_y\u001b[0;34m(X, y, accept_sparse, accept_large_sparse, dtype, order, copy, force_all_finite, ensure_2d, allow_nd, multi_output, ensure_min_samples, ensure_min_features, y_numeric, warn_on_dtype, estimator)\u001b[0m\n\u001b[1;32m    754\u001b[0m                     \u001b[0mensure_min_features\u001b[0m\u001b[0;34m=\u001b[0m\u001b[0mensure_min_features\u001b[0m\u001b[0;34m,\u001b[0m\u001b[0;34m\u001b[0m\u001b[0m\n\u001b[1;32m    755\u001b[0m                     \u001b[0mwarn_on_dtype\u001b[0m\u001b[0;34m=\u001b[0m\u001b[0mwarn_on_dtype\u001b[0m\u001b[0;34m,\u001b[0m\u001b[0;34m\u001b[0m\u001b[0m\n\u001b[0;32m--> 756\u001b[0;31m                     estimator=estimator)\n\u001b[0m\u001b[1;32m    757\u001b[0m     \u001b[0;32mif\u001b[0m \u001b[0mmulti_output\u001b[0m\u001b[0;34m:\u001b[0m\u001b[0;34m\u001b[0m\u001b[0m\n\u001b[1;32m    758\u001b[0m         y = check_array(y, 'csr', force_all_finite=True, ensure_2d=False,\n",
      "\u001b[0;32m/usr/local/lib/python2.7/dist-packages/sklearn/utils/validation.pyc\u001b[0m in \u001b[0;36mcheck_array\u001b[0;34m(array, accept_sparse, accept_large_sparse, dtype, order, copy, force_all_finite, ensure_2d, allow_nd, ensure_min_samples, ensure_min_features, warn_on_dtype, estimator)\u001b[0m\n\u001b[1;32m    543\u001b[0m                     \u001b[0;34m\"Reshape your data either using array.reshape(-1, 1) if \"\u001b[0m\u001b[0;34m\u001b[0m\u001b[0m\n\u001b[1;32m    544\u001b[0m                     \u001b[0;34m\"your data has a single feature or array.reshape(1, -1) \"\u001b[0m\u001b[0;34m\u001b[0m\u001b[0m\n\u001b[0;32m--> 545\u001b[0;31m                     \"if it contains a single sample.\".format(array))\n\u001b[0m\u001b[1;32m    546\u001b[0m             \u001b[0;31m# If input is 1D raise error\u001b[0m\u001b[0;34m\u001b[0m\u001b[0;34m\u001b[0m\u001b[0m\n\u001b[1;32m    547\u001b[0m             \u001b[0;32mif\u001b[0m \u001b[0marray\u001b[0m\u001b[0;34m.\u001b[0m\u001b[0mndim\u001b[0m \u001b[0;34m==\u001b[0m \u001b[0;36m1\u001b[0m\u001b[0;34m:\u001b[0m\u001b[0;34m\u001b[0m\u001b[0m\n",
      "\u001b[0;31mValueError\u001b[0m: Expected 2D array, got scalar array instead:\narray=1.\nReshape your data either using array.reshape(-1, 1) if your data has a single feature or array.reshape(1, -1) if it contains a single sample."
     ]
    }
   ],
   "source": [
    "model = LinearRegression().fit(X, y)\n",
    "model.fit(1,20)"
   ]
  },
  {
   "cell_type": "code",
   "execution_count": 63,
   "metadata": {},
   "outputs": [
    {
     "name": "stdout",
     "output_type": "stream",
     "text": [
      "('coefficient of determination:', 1.0)\n"
     ]
    }
   ],
   "source": [
    "r_sq = model.score(X, y)\n",
    "print('coefficient of determination:', r_sq)"
   ]
  },
  {
   "cell_type": "markdown",
   "metadata": {},
   "source": [
    "  "
   ]
  },
  {
   "cell_type": "code",
   "execution_count": 64,
   "metadata": {},
   "outputs": [
    {
     "name": "stdout",
     "output_type": "stream",
     "text": [
      "('intercept:', -1.4551915228366852e-11)\n",
      "('slope:', array([ 1.00000000e+00, -7.81149470e-14, -1.25094958e-13, -2.40791820e-13,\n",
      "        1.19802793e-13, -6.68114772e-14, -1.32475283e-12,  1.38791440e-12,\n",
      "        2.91183113e-13,  2.58078888e-14]))\n"
     ]
    }
   ],
   "source": [
    "print('intercept:', model.intercept_)\n",
    "print('slope:', model.coef_)"
   ]
  },
  {
   "cell_type": "code",
   "execution_count": 69,
   "metadata": {},
   "outputs": [
    {
     "ename": "ValueError",
     "evalue": "Expected 2D array, got 1D array instead:\narray=[ 1 20].\nReshape your data either using array.reshape(-1, 1) if your data has a single feature or array.reshape(1, -1) if it contains a single sample.",
     "output_type": "error",
     "traceback": [
      "\u001b[0;31m---------------------------------------------------------------------------\u001b[0m",
      "\u001b[0;31mValueError\u001b[0m                                Traceback (most recent call last)",
      "\u001b[0;32m<ipython-input-69-1e8d639b9903>\u001b[0m in \u001b[0;36m<module>\u001b[0;34m()\u001b[0m\n\u001b[1;32m      1\u001b[0m \u001b[0;31m# y_pred = model.predict(X)\u001b[0m\u001b[0;34m\u001b[0m\u001b[0;34m\u001b[0m\u001b[0m\n\u001b[1;32m      2\u001b[0m \u001b[0;31m# print('predicted response:', y_pred)\u001b[0m\u001b[0;34m\u001b[0m\u001b[0;34m\u001b[0m\u001b[0m\n\u001b[0;32m----> 3\u001b[0;31m \u001b[0mmodel\u001b[0m\u001b[0;34m.\u001b[0m\u001b[0mpredict\u001b[0m\u001b[0;34m(\u001b[0m\u001b[0;34m[\u001b[0m\u001b[0;36m1\u001b[0m\u001b[0;34m,\u001b[0m\u001b[0;36m20\u001b[0m\u001b[0;34m]\u001b[0m\u001b[0;34m)\u001b[0m\u001b[0;34m\u001b[0m\u001b[0m\n\u001b[0m",
      "\u001b[0;32m/usr/local/lib/python2.7/dist-packages/sklearn/linear_model/base.pyc\u001b[0m in \u001b[0;36mpredict\u001b[0;34m(self, X)\u001b[0m\n\u001b[1;32m    211\u001b[0m             \u001b[0mReturns\u001b[0m \u001b[0mpredicted\u001b[0m \u001b[0mvalues\u001b[0m\u001b[0;34m.\u001b[0m\u001b[0;34m\u001b[0m\u001b[0m\n\u001b[1;32m    212\u001b[0m         \"\"\"\n\u001b[0;32m--> 213\u001b[0;31m         \u001b[0;32mreturn\u001b[0m \u001b[0mself\u001b[0m\u001b[0;34m.\u001b[0m\u001b[0m_decision_function\u001b[0m\u001b[0;34m(\u001b[0m\u001b[0mX\u001b[0m\u001b[0;34m)\u001b[0m\u001b[0;34m\u001b[0m\u001b[0m\n\u001b[0m\u001b[1;32m    214\u001b[0m \u001b[0;34m\u001b[0m\u001b[0m\n\u001b[1;32m    215\u001b[0m     \u001b[0m_preprocess_data\u001b[0m \u001b[0;34m=\u001b[0m \u001b[0mstaticmethod\u001b[0m\u001b[0;34m(\u001b[0m\u001b[0m_preprocess_data\u001b[0m\u001b[0;34m)\u001b[0m\u001b[0;34m\u001b[0m\u001b[0m\n",
      "\u001b[0;32m/usr/local/lib/python2.7/dist-packages/sklearn/linear_model/base.pyc\u001b[0m in \u001b[0;36m_decision_function\u001b[0;34m(self, X)\u001b[0m\n\u001b[1;32m    194\u001b[0m         \u001b[0mcheck_is_fitted\u001b[0m\u001b[0;34m(\u001b[0m\u001b[0mself\u001b[0m\u001b[0;34m,\u001b[0m \u001b[0;34m\"coef_\"\u001b[0m\u001b[0;34m)\u001b[0m\u001b[0;34m\u001b[0m\u001b[0m\n\u001b[1;32m    195\u001b[0m \u001b[0;34m\u001b[0m\u001b[0m\n\u001b[0;32m--> 196\u001b[0;31m         \u001b[0mX\u001b[0m \u001b[0;34m=\u001b[0m \u001b[0mcheck_array\u001b[0m\u001b[0;34m(\u001b[0m\u001b[0mX\u001b[0m\u001b[0;34m,\u001b[0m \u001b[0maccept_sparse\u001b[0m\u001b[0;34m=\u001b[0m\u001b[0;34m[\u001b[0m\u001b[0;34m'csr'\u001b[0m\u001b[0;34m,\u001b[0m \u001b[0;34m'csc'\u001b[0m\u001b[0;34m,\u001b[0m \u001b[0;34m'coo'\u001b[0m\u001b[0;34m]\u001b[0m\u001b[0;34m)\u001b[0m\u001b[0;34m\u001b[0m\u001b[0m\n\u001b[0m\u001b[1;32m    197\u001b[0m         return safe_sparse_dot(X, self.coef_.T,\n\u001b[1;32m    198\u001b[0m                                dense_output=True) + self.intercept_\n",
      "\u001b[0;32m/usr/local/lib/python2.7/dist-packages/sklearn/utils/validation.pyc\u001b[0m in \u001b[0;36mcheck_array\u001b[0;34m(array, accept_sparse, accept_large_sparse, dtype, order, copy, force_all_finite, ensure_2d, allow_nd, ensure_min_samples, ensure_min_features, warn_on_dtype, estimator)\u001b[0m\n\u001b[1;32m    550\u001b[0m                     \u001b[0;34m\"Reshape your data either using array.reshape(-1, 1) if \"\u001b[0m\u001b[0;34m\u001b[0m\u001b[0m\n\u001b[1;32m    551\u001b[0m                     \u001b[0;34m\"your data has a single feature or array.reshape(1, -1) \"\u001b[0m\u001b[0;34m\u001b[0m\u001b[0m\n\u001b[0;32m--> 552\u001b[0;31m                     \"if it contains a single sample.\".format(array))\n\u001b[0m\u001b[1;32m    553\u001b[0m \u001b[0;34m\u001b[0m\u001b[0m\n\u001b[1;32m    554\u001b[0m         \u001b[0;31m# in the future np.flexible dtypes will be handled like object dtypes\u001b[0m\u001b[0;34m\u001b[0m\u001b[0;34m\u001b[0m\u001b[0m\n",
      "\u001b[0;31mValueError\u001b[0m: Expected 2D array, got 1D array instead:\narray=[ 1 20].\nReshape your data either using array.reshape(-1, 1) if your data has a single feature or array.reshape(1, -1) if it contains a single sample."
     ]
    }
   ],
   "source": [
    "# y_pred = model.predict(X)\n",
    "# print('predicted response:', y_pred)\n",
    "model.predict([1,20])"
   ]
  },
  {
   "cell_type": "code",
   "execution_count": 66,
   "metadata": {},
   "outputs": [
    {
     "name": "stdout",
     "output_type": "stream",
     "text": [
      "('predicted response:',           salary       exprior     yearsrank        market        degree  \\\n",
      "0    53000.00000 -1.455192e-11 -1.455192e-11 -1.483364e-11 -1.443211e-11   \n",
      "1    58000.00000 -1.463003e-11 -1.455192e-11 -1.485050e-11 -1.443211e-11   \n",
      "2    45500.00000 -1.455192e-11 -1.455192e-11 -1.484327e-11 -1.443211e-11   \n",
      "3    35782.00000 -1.455192e-11 -1.467701e-11 -1.479030e-11 -1.443211e-11   \n",
      "4    34731.00000 -1.455192e-11 -1.480211e-11 -1.477104e-11 -1.443211e-11   \n",
      "5    56000.00000 -1.463003e-11 -1.455192e-11 -1.483846e-11 -1.443211e-11   \n",
      "6    61008.00000 -1.455192e-11 -1.480211e-11 -1.487217e-11 -1.443211e-11   \n",
      "7    39986.00000 -1.455192e-11 -1.455192e-11 -1.479030e-11 -1.443211e-11   \n",
      "8    36308.00000 -1.455192e-11 -1.467701e-11 -1.475659e-11 -1.443211e-11   \n",
      "9    55000.00000 -1.455192e-11 -1.455192e-11 -1.484809e-11 -1.443211e-11   \n",
      "10   55227.00000 -1.455192e-11 -1.492720e-11 -1.484809e-11 -1.443211e-11   \n",
      "11   55227.00000 -1.455192e-11 -1.492720e-11 -1.484809e-11 -1.443211e-11   \n",
      "12   33680.00000 -1.455192e-11 -1.467701e-11 -1.480475e-11 -1.443211e-11   \n",
      "13   61008.00000 -1.455192e-11 -1.492720e-11 -1.485050e-11 -1.443211e-11   \n",
      "14   37000.00000 -1.478626e-11 -1.455192e-11 -1.479030e-11 -1.443211e-11   \n",
      "15   46292.00000 -1.455192e-11 -1.480211e-11 -1.482642e-11 -1.443211e-11   \n",
      "16   33680.00000 -1.455192e-11 -1.467701e-11 -1.475659e-11 -1.443211e-11   \n",
      "17   39754.00000 -1.455192e-11 -1.455192e-11 -1.476381e-11 -1.443211e-11   \n",
      "18   34000.00000 -1.455192e-11 -1.492720e-11 -1.472769e-11 -1.443211e-11   \n",
      "19   42614.00000 -1.455192e-11 -1.480211e-11 -1.476381e-11 -1.443211e-11   \n",
      "20   55121.00000 -1.470815e-11 -1.467701e-11 -1.483605e-11 -1.443211e-11   \n",
      "21   32000.00000 -1.478626e-11 -1.455192e-11 -1.477104e-11 -1.443211e-11   \n",
      "22   34731.00000 -1.463003e-11 -1.467701e-11 -1.475659e-11 -1.443211e-11   \n",
      "23   62059.00000 -1.455192e-11 -1.492720e-11 -1.483364e-11 -1.443211e-11   \n",
      "24   61008.00000 -1.455192e-11 -1.480211e-11 -1.487217e-11 -1.443211e-11   \n",
      "25   33680.00000 -1.455192e-11 -1.492720e-11 -1.476381e-11 -1.443211e-11   \n",
      "26   35206.00000 -1.455192e-11 -1.480211e-11 -1.475659e-11 -1.443211e-11   \n",
      "27   35257.00000 -1.455192e-11 -1.480211e-11 -1.475659e-11 -1.443211e-11   \n",
      "28   35782.00000 -1.463003e-11 -1.480211e-11 -1.479030e-11 -1.443211e-11   \n",
      "29   39000.00000 -1.486438e-11 -1.455192e-11 -1.484568e-11 -1.443211e-11   \n",
      "..           ...           ...           ...           ...           ...   \n",
      "484  42813.00000 -1.502060e-11 -1.542758e-11 -1.475659e-11 -1.443211e-11   \n",
      "485  50008.00000 -1.455192e-11 -1.580286e-11 -1.474455e-11 -1.443211e-11   \n",
      "486  52773.00000 -1.455192e-11 -1.630324e-11 -1.476381e-11 -1.443211e-11   \n",
      "487  34997.00000 -1.455192e-11 -1.605305e-11 -1.474455e-11 -1.443211e-11   \n",
      "488  43921.00000 -1.455192e-11 -1.592796e-11 -1.475659e-11 -1.443211e-11   \n",
      "489  38935.00000 -1.572364e-11 -1.492720e-11 -1.477104e-11 -1.443211e-11   \n",
      "490  51640.00000 -1.486438e-11 -1.517739e-11 -1.479030e-11 -1.443211e-11   \n",
      "491  60678.00000 -1.494249e-11 -1.455192e-11 -1.484327e-11 -1.443211e-11   \n",
      "492  63660.85156 -1.587987e-11 -1.467701e-11 -1.477344e-11 -1.443211e-11   \n",
      "493  44410.85547 -1.509872e-11 -1.580286e-11 -1.472529e-11 -1.443211e-11   \n",
      "494  50729.00000 -1.455192e-11 -1.542758e-11 -1.475659e-11 -1.443211e-11   \n",
      "495  58530.00000 -1.455192e-11 -1.567777e-11 -1.477585e-11 -1.443211e-11   \n",
      "496  41063.00000 -1.463003e-11 -1.680362e-11 -1.474696e-11 -1.443211e-11   \n",
      "497  48681.00000 -1.455192e-11 -1.605305e-11 -1.480475e-11 -1.443211e-11   \n",
      "498  52446.00000 -1.494249e-11 -1.530248e-11 -1.474696e-11 -1.443211e-11   \n",
      "499  45669.00000 -1.470815e-11 -1.517739e-11 -1.472769e-11 -1.443211e-11   \n",
      "500  45047.00000 -1.455192e-11 -1.705381e-11 -1.475177e-11 -1.443211e-11   \n",
      "501  50280.00000 -1.455192e-11 -1.642834e-11 -1.475659e-11 -1.443211e-11   \n",
      "502  48765.00000 -1.533306e-11 -1.505230e-11 -1.477826e-11 -1.443211e-11   \n",
      "503  36308.00000 -1.580175e-11 -1.517739e-11 -1.475900e-11 -1.443211e-11   \n",
      "504  64770.00000 -1.455192e-11 -1.642834e-11 -1.479752e-11 -1.443211e-11   \n",
      "505  52009.00000 -1.455192e-11 -1.467701e-11 -1.475659e-11 -1.443211e-11   \n",
      "506  46843.00000 -1.455192e-11 -1.617815e-11 -1.474696e-11 -1.443211e-11   \n",
      "507  58766.75781 -1.455192e-11 -1.605305e-11 -1.479030e-11 -1.443211e-11   \n",
      "508  52395.00000 -1.494249e-11 -1.542758e-11 -1.475900e-11 -1.443211e-11   \n",
      "509  45906.00000 -1.502060e-11 -1.592796e-11 -1.477344e-11 -1.443211e-11   \n",
      "510  60402.00000 -1.502060e-11 -1.542758e-11 -1.475900e-11 -1.443211e-11   \n",
      "511  53187.00000 -1.603610e-11 -1.530248e-11 -1.473973e-11 -1.443211e-11   \n",
      "512  56542.00000 -1.517683e-11 -1.580286e-11 -1.473973e-11 -1.443211e-11   \n",
      "513  52662.00000 -1.556741e-11 -1.592796e-11 -1.473973e-11 -1.443211e-11   \n",
      "\n",
      "        otherqual      position          male         Field      yearsabs  \n",
      "0   -1.455192e-11 -1.587667e-11 -1.316400e-11 -1.367837e-11 -1.455192e-11  \n",
      "1   -1.455192e-11 -1.587667e-11 -1.316400e-11 -1.396955e-11 -1.455192e-11  \n",
      "2   -1.455192e-11 -1.587667e-11 -1.316400e-11 -1.367837e-11 -1.450030e-11  \n",
      "3   -1.455192e-11 -1.587667e-11 -1.316400e-11 -1.338718e-11 -1.452611e-11  \n",
      "4   -1.455192e-11 -1.587667e-11 -1.316400e-11 -1.338718e-11 -1.452611e-11  \n",
      "5   -1.455192e-11 -1.587667e-11 -1.316400e-11 -1.426073e-11 -1.455192e-11  \n",
      "6   -1.455192e-11 -1.587667e-11 -1.316400e-11 -1.396955e-11 -1.455192e-11  \n",
      "7   -1.455192e-11 -1.587667e-11 -1.316400e-11 -1.338718e-11 -1.455192e-11  \n",
      "8   -1.455192e-11 -1.587667e-11 -1.316400e-11 -1.426073e-11 -1.452611e-11  \n",
      "9   -1.455192e-11 -1.587667e-11 -1.316400e-11 -1.426073e-11 -1.452611e-11  \n",
      "10  -1.455192e-11 -1.587667e-11 -1.316400e-11 -1.426073e-11 -1.452611e-11  \n",
      "11  -1.455192e-11 -1.587667e-11 -1.316400e-11 -1.396955e-11 -1.452611e-11  \n",
      "12  -1.455192e-11 -1.587667e-11 -1.316400e-11 -1.338718e-11 -1.452611e-11  \n",
      "13  -1.455192e-11 -1.587667e-11 -1.316400e-11 -1.338718e-11 -1.452611e-11  \n",
      "14  -1.455192e-11 -1.587667e-11 -1.316400e-11 -1.426073e-11 -1.455192e-11  \n",
      "15  -1.455192e-11 -1.587667e-11 -1.316400e-11 -1.396955e-11 -1.455192e-11  \n",
      "16  -1.455192e-11 -1.587667e-11 -1.316400e-11 -1.367837e-11 -1.455192e-11  \n",
      "17  -1.455192e-11 -1.587667e-11 -1.316400e-11 -1.367837e-11 -1.450030e-11  \n",
      "18  -1.455192e-11 -1.587667e-11 -1.316400e-11 -1.367837e-11 -1.450030e-11  \n",
      "19  -1.455192e-11 -1.587667e-11 -1.316400e-11 -1.396955e-11 -1.455192e-11  \n",
      "20  -1.455192e-11 -1.587667e-11 -1.316400e-11 -1.396955e-11 -1.455192e-11  \n",
      "21  -1.455192e-11 -1.587667e-11 -1.316400e-11 -1.367837e-11 -1.455192e-11  \n",
      "22  -1.455192e-11 -1.587667e-11 -1.316400e-11 -1.338718e-11 -1.447449e-11  \n",
      "23  -1.455192e-11 -1.587667e-11 -1.316400e-11 -1.426073e-11 -1.455192e-11  \n",
      "24  -1.455192e-11 -1.587667e-11 -1.316400e-11 -1.396955e-11 -1.452611e-11  \n",
      "25  -1.455192e-11 -1.587667e-11 -1.316400e-11 -1.338718e-11 -1.452611e-11  \n",
      "26  -1.455192e-11 -1.587667e-11 -1.316400e-11 -1.338718e-11 -1.455192e-11  \n",
      "27  -1.455192e-11 -1.587667e-11 -1.316400e-11 -1.338718e-11 -1.452611e-11  \n",
      "28  -1.455192e-11 -1.587667e-11 -1.316400e-11 -1.338718e-11 -1.455192e-11  \n",
      "29  -1.455192e-11 -1.587667e-11 -1.316400e-11 -1.338718e-11 -1.455192e-11  \n",
      "..            ...           ...           ...           ...           ...  \n",
      "484 -1.455192e-11 -1.720142e-11 -1.455192e-11 -1.396955e-11 -1.333894e-11  \n",
      "485 -1.455192e-11 -1.720142e-11 -1.455192e-11 -1.426073e-11 -1.333894e-11  \n",
      "486 -1.455192e-11 -1.720142e-11 -1.455192e-11 -1.426073e-11 -1.331314e-11  \n",
      "487 -1.455192e-11 -1.720142e-11 -1.455192e-11 -1.367837e-11 -1.328733e-11  \n",
      "488 -1.455192e-11 -1.720142e-11 -1.455192e-11 -1.367837e-11 -1.328733e-11  \n",
      "489 -1.455192e-11 -1.587667e-11 -1.455192e-11 -1.338718e-11 -1.328733e-11  \n",
      "490 -1.455192e-11 -1.852617e-11 -1.455192e-11 -1.338718e-11 -1.328733e-11  \n",
      "491 -1.455192e-11 -1.852617e-11 -1.455192e-11 -1.426073e-11 -1.326152e-11  \n",
      "492 -1.461873e-11 -1.852617e-11 -1.455192e-11 -1.396955e-11 -1.326152e-11  \n",
      "493 -1.455192e-11 -1.720142e-11 -1.455192e-11 -1.367837e-11 -1.323571e-11  \n",
      "494 -1.455192e-11 -1.852617e-11 -1.455192e-11 -1.396955e-11 -1.320991e-11  \n",
      "495 -1.455192e-11 -1.852617e-11 -1.455192e-11 -1.396955e-11 -1.320991e-11  \n",
      "496 -1.455192e-11 -1.587667e-11 -1.455192e-11 -1.338718e-11 -1.320991e-11  \n",
      "497 -1.455192e-11 -1.720142e-11 -1.455192e-11 -1.338718e-11 -1.320991e-11  \n",
      "498 -1.455192e-11 -1.852617e-11 -1.455192e-11 -1.338718e-11 -1.320991e-11  \n",
      "499 -1.455192e-11 -1.720142e-11 -1.455192e-11 -1.367837e-11 -1.310667e-11  \n",
      "500 -1.455192e-11 -1.587667e-11 -1.455192e-11 -1.426073e-11 -1.310667e-11  \n",
      "501 -1.455192e-11 -1.720142e-11 -1.455192e-11 -1.396955e-11 -1.305506e-11  \n",
      "502 -1.455192e-11 -1.852617e-11 -1.455192e-11 -1.338718e-11 -1.305506e-11  \n",
      "503 -1.455192e-11 -1.587667e-11 -1.455192e-11 -1.426073e-11 -1.300344e-11  \n",
      "504 -1.455192e-11 -1.852617e-11 -1.455192e-11 -1.426073e-11 -1.295183e-11  \n",
      "505 -1.455192e-11 -1.852617e-11 -1.455192e-11 -1.396955e-11 -1.292602e-11  \n",
      "506 -1.455192e-11 -1.720142e-11 -1.455192e-11 -1.367837e-11 -1.287440e-11  \n",
      "507 -1.461873e-11 -1.852617e-11 -1.455192e-11 -1.396955e-11 -1.282279e-11  \n",
      "508 -1.455192e-11 -1.852617e-11 -1.455192e-11 -1.338718e-11 -1.277117e-11  \n",
      "509 -1.455192e-11 -1.720142e-11 -1.455192e-11 -1.396955e-11 -1.274536e-11  \n",
      "510 -1.455192e-11 -1.852617e-11 -1.455192e-11 -1.426073e-11 -1.269375e-11  \n",
      "511 -1.455192e-11 -1.852617e-11 -1.455192e-11 -1.338718e-11 -1.259052e-11  \n",
      "512 -1.455192e-11 -1.852617e-11 -1.455192e-11 -1.396955e-11 -1.253890e-11  \n",
      "513 -1.455192e-11 -1.852617e-11 -1.455192e-11 -1.426073e-11 -1.166143e-11  \n",
      "\n",
      "[514 rows x 10 columns])\n"
     ]
    }
   ],
   "source": [
    "y_pred = model.intercept_ + model.coef_ * X\n",
    ">>> print('predicted response:', y_pred)"
   ]
  },
  {
   "cell_type": "code",
   "execution_count": null,
   "metadata": {},
   "outputs": [],
   "source": []
  },
  {
   "cell_type": "code",
   "execution_count": null,
   "metadata": {},
   "outputs": [],
   "source": []
  }
 ],
 "metadata": {
  "kernelspec": {
   "display_name": "Python 2",
   "language": "python",
   "name": "python2"
  },
  "language_info": {
   "codemirror_mode": {
    "name": "ipython",
    "version": 2
   },
   "file_extension": ".py",
   "mimetype": "text/x-python",
   "name": "python",
   "nbconvert_exporter": "python",
   "pygments_lexer": "ipython2",
   "version": "2.7.17"
  }
 },
 "nbformat": 4,
 "nbformat_minor": 2
}
